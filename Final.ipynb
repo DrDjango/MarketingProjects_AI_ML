{
  "cells": [
    {
      "cell_type": "markdown",
      "metadata": {
        "id": "view-in-github",
        "colab_type": "text"
      },
      "source": [
        "<a href=\"https://colab.research.google.com/github/DrDjango/MarketingProjects_AI_ML/blob/main/Final.ipynb\" target=\"_parent\"><img src=\"https://colab.research.google.com/assets/colab-badge.svg\" alt=\"Open In Colab\"/></a>"
      ]
    },
    {
      "cell_type": "code",
      "execution_count": null,
      "metadata": {
        "id": "pMmrDgNn-N7q",
        "outputId": "f0dccef4-e1fd-4e84-b81e-d28f1bd6118d"
      },
      "outputs": [
        {
          "name": "stdout",
          "output_type": "stream",
          "text": [
            "Requirement already satisfied: google-cloud-translate==2.0.1 in c:\\users\\ankit\\anaconda3\\lib\\site-packages (2.0.1)\n",
            "Requirement already satisfied: google-cloud-core<2.0dev,>=1.1.0 in c:\\users\\ankit\\anaconda3\\lib\\site-packages (from google-cloud-translate==2.0.1) (1.7.3)\n",
            "Requirement already satisfied: google-api-core[grpc]<2.0.0dev,>=1.15.0 in c:\\users\\ankit\\anaconda3\\lib\\site-packages (from google-cloud-translate==2.0.1) (1.34.1)\n",
            "Requirement already satisfied: requests<3.0.0dev,>=2.18.0 in c:\\users\\ankit\\anaconda3\\lib\\site-packages (from google-api-core[grpc]<2.0.0dev,>=1.15.0->google-cloud-translate==2.0.1) (2.31.0)\n",
            "Requirement already satisfied: google-auth<3.0dev,>=1.25.0 in c:\\users\\ankit\\anaconda3\\lib\\site-packages (from google-api-core[grpc]<2.0.0dev,>=1.15.0->google-cloud-translate==2.0.1) (1.35.0)\n",
            "Requirement already satisfied: googleapis-common-protos<2.0dev,>=1.56.2 in c:\\users\\ankit\\anaconda3\\lib\\site-packages (from google-api-core[grpc]<2.0.0dev,>=1.15.0->google-cloud-translate==2.0.1) (1.62.0)\n",
            "Requirement already satisfied: protobuf!=3.20.0,!=3.20.1,!=4.21.0,!=4.21.1,!=4.21.2,!=4.21.3,!=4.21.4,!=4.21.5,<4.0.0dev,>=3.19.5 in c:\\users\\ankit\\anaconda3\\lib\\site-packages (from google-api-core[grpc]<2.0.0dev,>=1.15.0->google-cloud-translate==2.0.1) (3.20.3)\n",
            "Requirement already satisfied: grpcio-status<2.0dev,>=1.33.2 in c:\\users\\ankit\\anaconda3\\lib\\site-packages (from google-api-core[grpc]<2.0.0dev,>=1.15.0->google-cloud-translate==2.0.1) (1.48.2)\n",
            "Requirement already satisfied: grpcio<2.0dev,>=1.33.2 in c:\\users\\ankit\\anaconda3\\lib\\site-packages (from google-api-core[grpc]<2.0.0dev,>=1.15.0->google-cloud-translate==2.0.1) (1.60.0)\n",
            "Requirement already satisfied: six>=1.12.0 in c:\\users\\ankit\\anaconda3\\lib\\site-packages (from google-cloud-core<2.0dev,>=1.1.0->google-cloud-translate==2.0.1) (1.16.0)\n",
            "Requirement already satisfied: cachetools<5.0,>=2.0.0 in c:\\users\\ankit\\anaconda3\\lib\\site-packages (from google-auth<3.0dev,>=1.25.0->google-api-core[grpc]<2.0.0dev,>=1.15.0->google-cloud-translate==2.0.1) (4.2.4)\n",
            "Requirement already satisfied: setuptools>=40.3.0 in c:\\users\\ankit\\anaconda3\\lib\\site-packages (from google-auth<3.0dev,>=1.25.0->google-api-core[grpc]<2.0.0dev,>=1.15.0->google-cloud-translate==2.0.1) (65.6.3)\n",
            "Requirement already satisfied: rsa<5,>=3.1.4 in c:\\users\\ankit\\anaconda3\\lib\\site-packages (from google-auth<3.0dev,>=1.25.0->google-api-core[grpc]<2.0.0dev,>=1.15.0->google-cloud-translate==2.0.1) (4.9)\n",
            "Requirement already satisfied: pyasn1-modules>=0.2.1 in c:\\users\\ankit\\anaconda3\\lib\\site-packages (from google-auth<3.0dev,>=1.25.0->google-api-core[grpc]<2.0.0dev,>=1.15.0->google-cloud-translate==2.0.1) (0.2.8)\n",
            "Requirement already satisfied: certifi>=2017.4.17 in c:\\users\\ankit\\anaconda3\\lib\\site-packages (from requests<3.0.0dev,>=2.18.0->google-api-core[grpc]<2.0.0dev,>=1.15.0->google-cloud-translate==2.0.1) (2022.12.7)\n",
            "Requirement already satisfied: idna<4,>=2.5 in c:\\users\\ankit\\anaconda3\\lib\\site-packages (from requests<3.0.0dev,>=2.18.0->google-api-core[grpc]<2.0.0dev,>=1.15.0->google-cloud-translate==2.0.1) (3.4)\n",
            "Requirement already satisfied: charset-normalizer<4,>=2 in c:\\users\\ankit\\anaconda3\\lib\\site-packages (from requests<3.0.0dev,>=2.18.0->google-api-core[grpc]<2.0.0dev,>=1.15.0->google-cloud-translate==2.0.1) (2.0.4)\n",
            "Requirement already satisfied: urllib3<3,>=1.21.1 in c:\\users\\ankit\\anaconda3\\lib\\site-packages (from requests<3.0.0dev,>=2.18.0->google-api-core[grpc]<2.0.0dev,>=1.15.0->google-cloud-translate==2.0.1) (1.26.14)\n",
            "Requirement already satisfied: pyasn1<0.5.0,>=0.4.6 in c:\\users\\ankit\\anaconda3\\lib\\site-packages (from pyasn1-modules>=0.2.1->google-auth<3.0dev,>=1.25.0->google-api-core[grpc]<2.0.0dev,>=1.15.0->google-cloud-translate==2.0.1) (0.4.8)\n",
            "Note: you may need to restart the kernel to use updated packages.\n"
          ]
        }
      ],
      "source": [
        "pip install google-cloud-translate==2.0.1"
      ]
    },
    {
      "cell_type": "code",
      "execution_count": null,
      "metadata": {
        "id": "CPe20p7p-N7t"
      },
      "outputs": [],
      "source": [
        "from google.cloud import translate_v2\n",
        "import os"
      ]
    },
    {
      "cell_type": "code",
      "execution_count": null,
      "metadata": {
        "id": "tx8pvfJs-N7u"
      },
      "outputs": [],
      "source": [
        "# Set the environment variable\n",
        "os.environ[\"GOOGLE_APPLICATION_CREDENTIALS\"] = \"service-account.json\""
      ]
    },
    {
      "cell_type": "code",
      "execution_count": null,
      "metadata": {
        "id": "gJGT85Ur-N7u"
      },
      "outputs": [],
      "source": [
        "def translate_text(target: str, text: str) -> dict:\n",
        "    \"\"\"Translates text into the target language.\n",
        "\n",
        "    Target must be an ISO 639-1 language code.\n",
        "    See https://g.co/cloud/translate/v2/translate-reference#supported_languages\n",
        "    \"\"\"\n",
        "\n",
        "    translate_client = translate.Client()\n",
        "\n",
        "    if isinstance(text, bytes):\n",
        "        text = text.decode(\"utf-8\")\n",
        "\n",
        "    # Text can also be a sequence of strings, in which case this method\n",
        "    # will return a sequence of results for each text.\n",
        "    result = translate_client.translate(text, target_language=\"en\")\n",
        "\n",
        "    print(\"Text: {}\".format(result[\"input\"]))\n",
        "    print(\"Translation: {}\".format(result[\"translatedText\"]))\n",
        "    print(\"Detected source language: {}\".format(result[\"detectedSourceLanguage\"]))\n",
        "\n",
        "    return result"
      ]
    },
    {
      "cell_type": "code",
      "execution_count": null,
      "metadata": {
        "id": "QNP0q9Ac-N7v",
        "outputId": "adc4c073-2784-4084-c097-fe815f11dc4b"
      },
      "outputs": [
        {
          "name": "stdout",
          "output_type": "stream",
          "text": [
            "Text: Recebi bem antes do prazo estipulado\n",
            "Translation: I received it well before the stipulated deadline\n",
            "Detected source language: pt\n"
          ]
        },
        {
          "data": {
            "text/plain": [
              "{'translatedText': 'I received it well before the stipulated deadline',\n",
              " 'detectedSourceLanguage': 'pt',\n",
              " 'input': 'Recebi bem antes do prazo estipulado'}"
            ]
          },
          "execution_count": 6,
          "metadata": {},
          "output_type": "execute_result"
        }
      ],
      "source": [
        "from google.cloud import translate_v2 as translate\n",
        "\n",
        "translate_text(\"en\", \"Recebi bem antes do prazo estipulado\")"
      ]
    },
    {
      "cell_type": "code",
      "execution_count": null,
      "metadata": {
        "id": "NW7vdSUN-N7w"
      },
      "outputs": [],
      "source": [
        "import pandas as pd"
      ]
    },
    {
      "cell_type": "code",
      "execution_count": null,
      "metadata": {
        "id": "LsGlQP2l-N7w",
        "outputId": "863840d8-3553-4921-f40d-7852a4f9201a"
      },
      "outputs": [
        {
          "name": "stdout",
          "output_type": "stream",
          "text": [
            "Translation completed and saved to: output_translated.csv\n"
          ]
        }
      ],
      "source": [
        "from google.cloud import translate_v2 as translate\n",
        "import pandas as pd\n",
        "import os\n",
        "\n",
        "translate_client = translate.Client()\n",
        "\n",
        "def translate_text(target, text):\n",
        "    \"\"\"Translates text into the target language.\n",
        "\n",
        "    Args:\n",
        "        target (str): The language to translate the text into.\n",
        "        text (str): The text to translate.\n",
        "\n",
        "    Returns:\n",
        "        str: The translated text.\n",
        "    \"\"\"\n",
        "    if text:\n",
        "        result = translate_client.translate(text, target_language=target)\n",
        "        return result['translatedText']\n",
        "    return text\n",
        "\n",
        "def translate_reviews(input_file, output_file, target_language='en'):\n",
        "    \"\"\"Translates review comments in a CSV file and saves the results to another CSV file.\n",
        "\n",
        "    Args:\n",
        "        input_file (str): The path to the input CSV file.\n",
        "        output_file (str): The path to the output CSV file.\n",
        "        target_language (str, optional): The target language for translation. Defaults to 'en'.\n",
        "    \"\"\"\n",
        "    # Load the reviews\n",
        "    data = pd.read_csv(input_file)\n",
        "\n",
        "    # Translate each review comment\n",
        "    data['review_comment_message_translated'] = data['review_comment_message'].apply(lambda x: translate_text(target_language, x) if pd.notnull(x) else x)\n",
        "\n",
        "    # Save the result\n",
        "    data.to_csv(output_file, index=False)\n",
        "\n",
        "# Define your input and output file paths\n",
        "input_file_path = 'C:/Users/ankit/OneDrive - St. Lawrence College/Winter 2024/Artificial Intelligence in Marketing/Assignment 5/archive(11)/olist_order_reviews_dataset_clean.csv'\n",
        "output_file_path = 'output_translated.csv'\n",
        "\n",
        "# Perform the translation\n",
        "translate_reviews(input_file_path, output_file_path, 'en')\n",
        "\n",
        "print(\"Translation completed and saved to:\", output_file_path)\n"
      ]
    },
    {
      "cell_type": "code",
      "execution_count": null,
      "metadata": {
        "id": "6YIkW4jJ-N7x"
      },
      "outputs": [],
      "source": [
        "from google.cloud import language_v1"
      ]
    },
    {
      "cell_type": "code",
      "execution_count": null,
      "metadata": {
        "id": "EGgkiMD1-N7x"
      },
      "outputs": [],
      "source": [
        "def analyze_sentiment(text_content):\n",
        "    \"\"\"Analyzes sentiment in a given text.\"\"\"\n",
        "    client = language_v1.LanguageServiceClient()\n",
        "\n",
        "    # Prepare the text content\n",
        "    document = language_v1.Document(content=text_content, type_=language_v1.Document.Type.PLAIN_TEXT)\n",
        "\n",
        "    # Detect sentiment in the document\n",
        "    sentiment = client.analyze_sentiment(request={\"document\": document}).document_sentiment\n",
        "\n",
        "    return sentiment.score, sentiment.magnitude"
      ]
    },
    {
      "cell_type": "code",
      "execution_count": null,
      "metadata": {
        "id": "cDDL5Iqj-N7x"
      },
      "outputs": [],
      "source": [
        "def perform_sentiment_analysis(input_file, output_file):\n",
        "    # Load the translated reviews\n",
        "    data = pd.read_csv(input_file)\n",
        "\n",
        "    # Perform sentiment analysis\n",
        "    sentiments = data['review_comment_message_translated'].apply(\n",
        "        lambda x: analyze_sentiment(x) if pd.notnull(x) else (None, None)\n",
        "    )\n",
        "\n",
        "    # Split the sentiment scores and magnitudes into separate columns\n",
        "    data['sentiment_score'], data['sentiment_magnitude'] = zip(*sentiments)\n",
        "\n",
        "    # Save the result\n",
        "    data.to_csv(output_file, index=False)\n",
        "    # Define your input and output file paths\n",
        "input_file_path = 'output_translated.csv'\n",
        "output_file_path = 'olist_order_reviews_dataset_with_sentiment.csv'"
      ]
    },
    {
      "cell_type": "code",
      "execution_count": null,
      "metadata": {
        "id": "aQbImD-d-N7x",
        "outputId": "fc48d556-c416-488e-e836-0025900ed1b6"
      },
      "outputs": [
        {
          "name": "stdout",
          "output_type": "stream",
          "text": [
            "Sentiment analysis completed and saved to: olist_order_reviews_dataset_with_sentiment.csv\n"
          ]
        }
      ],
      "source": [
        "# Perform sentiment analysis\n",
        "perform_sentiment_analysis(input_file_path, output_file_path)\n",
        "\n",
        "print(f\"Sentiment analysis completed and saved to:\", output_file_path)"
      ]
    },
    {
      "cell_type": "code",
      "execution_count": null,
      "metadata": {
        "id": "_RfdEbra-N7y",
        "outputId": "6bee2d53-6787-49f3-fb60-c53ef6a958a9"
      },
      "outputs": [
        {
          "name": "stdout",
          "output_type": "stream",
          "text": [
            "Requirement already satisfied: pyodbc in c:\\users\\ankit\\anaconda3\\lib\\site-packages (4.0.34)\n",
            "Requirement already satisfied: pypyodbc in c:\\users\\ankit\\anaconda3\\lib\\site-packages (1.3.6)\n",
            "Requirement already satisfied: setuptools in c:\\users\\ankit\\anaconda3\\lib\\site-packages (from pypyodbc) (65.6.3)\n"
          ]
        }
      ],
      "source": [
        "!pip install pyodbc\n",
        "!pip install pypyodbc"
      ]
    },
    {
      "cell_type": "code",
      "execution_count": null,
      "metadata": {
        "id": "JQ4JvnTB-N7y"
      },
      "outputs": [],
      "source": [
        "import pyodbc"
      ]
    },
    {
      "cell_type": "code",
      "execution_count": null,
      "metadata": {
        "id": "HaGQDFIn-N7y"
      },
      "outputs": [],
      "source": [
        "# Load the dataset\n",
        "data_path = 'olist_order_reviews_dataset_with_sentiment.csv'\n",
        "data = pd.read_csv(data_path)"
      ]
    },
    {
      "cell_type": "code",
      "execution_count": null,
      "metadata": {
        "id": "6XxYwB7v-N7z",
        "outputId": "5d89fd98-991f-4b68-fc8c-dc1be98c995a"
      },
      "outputs": [
        {
          "data": {
            "text/plain": [
              "['SQL Server',\n",
              " 'MySQL ODBC 8.0 ANSI Driver',\n",
              " 'MySQL ODBC 8.0 Unicode Driver',\n",
              " 'ODBC Driver 17 for SQL Server',\n",
              " 'SQL Server Native Client RDA 11.0',\n",
              " 'Microsoft Access Driver (*.mdb, *.accdb)',\n",
              " 'Microsoft Excel Driver (*.xls, *.xlsx, *.xlsm, *.xlsb)',\n",
              " 'Microsoft Access Text Driver (*.txt, *.csv)']"
            ]
          },
          "execution_count": 5,
          "metadata": {},
          "output_type": "execute_result"
        }
      ],
      "source": [
        "pyodbc.drivers()"
      ]
    },
    {
      "cell_type": "code",
      "execution_count": null,
      "metadata": {
        "id": "-QpyF6kI-N7z"
      },
      "outputs": [],
      "source": [
        "conn = pyodbc.connect(\n",
        "    Trusted_Connection='yes',\n",
        "    Driver='{ODBC Driver 17 for SQL Server}',\n",
        "    Server='ANKIT\\SQLEXPRESS',\n",
        "    Database='Sentiment'\n",
        ")\n",
        "\n",
        "cursor = conn.cursor()"
      ]
    },
    {
      "cell_type": "code",
      "execution_count": null,
      "metadata": {
        "id": "hS8b8Bys-N7z",
        "outputId": "8ee42dce-cc82-4c4d-91ca-79ca4703c97d"
      },
      "outputs": [
        {
          "name": "stdout",
          "output_type": "stream",
          "text": [
            "<pyodbc.Connection object at 0x000001E1D1632590>\n"
          ]
        }
      ],
      "source": [
        "print(conn)"
      ]
    },
    {
      "cell_type": "code",
      "execution_count": null,
      "metadata": {
        "id": "2PMaf5sm-N7z",
        "outputId": "21f70e36-cf0a-49a9-eccd-8cf587b780e0"
      },
      "outputs": [
        {
          "data": {
            "text/plain": [
              "<bound method NDFrame.head of                             review_id                          order_id  \\\n",
              "0    8670d52e15e00043ae7de4c01cc2fe06  b9bf720beb4ab3728760088589c62129   \n",
              "1    3948b09f7c818e2d86c9a546758b2335  e51478e7e277a83743b6f9991dbfa3fb   \n",
              "2    373cbeecea8286a2b66c97b1b157ec46  583174fbe37d3d5f0d6661be3aad1786   \n",
              "3    d21bbc789670eab777d27372ab9094cc  4fc44d78867142c627497b60a7e0228a   \n",
              "4    c92cdd7dd544a01aa35137f901669cdf  37e7875cdce5a9e5b3a692971f370151   \n",
              "..                                ...                               ...   \n",
              "194  a44891f74fe94f29dbbfa6f7b60cceba  18c1040bac4b6a31a10b6d4201072ce2   \n",
              "195  89411999cf6c8324d7e03f39b5eb6e9d  3c91fb2601d8d06e7e3c9ee4f79060c0   \n",
              "196  712d37ca4d8dd3ac08c756c646b512cb  363814e98fb75811e4465c3b7fc84ca5   \n",
              "197  4d3ff9f8c57cc584747eb184ef4cdebe  c54d822dcfd0f7c672574a607c9403b3   \n",
              "198  cde63556ef00a605bff898ceb2f4d559  f099a4bf3c8c87b391cbb899f02d8e47   \n",
              "\n",
              "     review_score     review_comment_title  \\\n",
              "0               4                recomendo   \n",
              "1               5          Super recomendo   \n",
              "2               1  Não chegou meu produto    \n",
              "3               5                    Ótimo   \n",
              "4               4               Muito bom.   \n",
              "..            ...                      ...   \n",
              "194             5              Muito bom !   \n",
              "195             4                    Otima   \n",
              "196             4              Bom produto   \n",
              "197             5                  Top!!!!   \n",
              "198             5          Super recomendo   \n",
              "\n",
              "                                review_comment_message review_creation_date  \\\n",
              "0    aparelho eficiente. no site a marca do aparelh...      2018-05-22 0:00   \n",
              "1    Vendedor confiável, produto ok e entrega antes...      2018-05-23 0:00   \n",
              "2                                              Péssimo      2018-08-15 0:00   \n",
              "3                                         Loja nota 10      2018-07-10 0:00   \n",
              "4    Recebi exatamente o que esperava. As demais en...      2018-06-07 0:00   \n",
              "..                                                 ...                  ...   \n",
              "194               Rápido ainda veio com um brinde! top      2018-05-18 0:00   \n",
              "195   Sistema operacional de compra fácil de ser ma...      2018-08-17 0:00   \n",
              "196  O produto chegou no prazo e em perfeitas condi...      2018-06-14 0:00   \n",
              "197                                Entre super rápida!      2018-06-05 0:00   \n",
              "198                           Tudo conforme combinado.      2018-08-30 0:00   \n",
              "\n",
              "    review_answer_timestamp  \\\n",
              "0          2018-05-23 16:45   \n",
              "1           2018-05-24 3:00   \n",
              "2           2018-08-15 4:10   \n",
              "3          2018-07-11 14:10   \n",
              "4          2018-06-09 18:44   \n",
              "..                      ...   \n",
              "194        2018-05-21 19:13   \n",
              "195         2018-08-18 0:51   \n",
              "196         2018-06-15 1:46   \n",
              "197        2018-06-08 21:04   \n",
              "198        2018-09-01 21:36   \n",
              "\n",
              "                     review_comment_message_translated  sentiment_score  \\\n",
              "0    efficient device. On the website the brand of ...              0.1   \n",
              "1    Reliable seller, ok product and delivery on time.              0.4   \n",
              "2                                             Terrible              0.3   \n",
              "3                                        Store note 10              0.0   \n",
              "4    I received exactly what I expected. Other orde...              0.7   \n",
              "..                                                 ...              ...   \n",
              "194              It even came with a gift quickly! top              0.9   \n",
              "195   Easy to use and understand purchasing operati...              0.9   \n",
              "196  The product arrived on time and in perfect con...              0.8   \n",
              "197                                  Enter super fast!              0.9   \n",
              "198                              Everything as agreed.              0.8   \n",
              "\n",
              "     sentiment_magnitude  \n",
              "0                    1.4  \n",
              "1                    0.4  \n",
              "2                    0.3  \n",
              "3                    0.0  \n",
              "4                    1.4  \n",
              "..                   ...  \n",
              "194                  1.9  \n",
              "195                  2.7  \n",
              "196                  0.8  \n",
              "197                  0.9  \n",
              "198                  0.8  \n",
              "\n",
              "[199 rows x 10 columns]>"
            ]
          },
          "execution_count": 8,
          "metadata": {},
          "output_type": "execute_result"
        }
      ],
      "source": [
        "data.head"
      ]
    },
    {
      "cell_type": "code",
      "execution_count": null,
      "metadata": {
        "id": "KjQPkbbo-N7z",
        "outputId": "e162e2f8-281e-4b9c-c1b1-60caaa8fbad9"
      },
      "outputs": [
        {
          "data": {
            "text/plain": [
              "Index(['review_id', 'order_id', 'review_score', 'review_comment_title',\n",
              "       'review_comment_message', 'review_creation_date',\n",
              "       'review_answer_timestamp', 'review_comment_message_translated',\n",
              "       'sentiment_score', 'sentiment_magnitude'],\n",
              "      dtype='object')"
            ]
          },
          "execution_count": 9,
          "metadata": {},
          "output_type": "execute_result"
        }
      ],
      "source": [
        "data.columns"
      ]
    },
    {
      "cell_type": "code",
      "execution_count": null,
      "metadata": {
        "id": "B-7Dvh5M-N7z",
        "outputId": "2531c86f-73dd-4b4d-d7f7-39e6066dfd53"
      },
      "outputs": [
        {
          "data": {
            "text/plain": [
              "<pyodbc.Cursor at 0x1e1d189c030>"
            ]
          },
          "execution_count": 28,
          "metadata": {},
          "output_type": "execute_result"
        }
      ],
      "source": [
        "import pyodbc\n",
        "\n",
        "# Establish a connection to the SQL Server database\n",
        "conn = pyodbc.connect(\n",
        "    Trusted_Connection='yes',\n",
        "    Driver='{ODBC Driver 17 for SQL Server}',\n",
        "    Server='ANKIT\\SQLEXPRESS',\n",
        "    Database='Sentiment'\n",
        ")\n",
        "\n",
        "# Create a cursor object to execute SQL queries\n",
        "cursor = conn.cursor()\n",
        "\n",
        "# Execute the CREATE TABLE query\n",
        "cursor.execute('CREATE TABLE Reviews(order_id VARCHAR(255), review_creation_date DATETIME, review_score FLOAT, review_comment_message_translated NVARCHAR(MAX), sentiment_score FLOAT, sentiment_magnitude FLOAT)')"
      ]
    },
    {
      "cell_type": "code",
      "execution_count": null,
      "metadata": {
        "id": "R3RJ0i0A-N70"
      },
      "outputs": [],
      "source": [
        "query = 'INSERT INTO Reviews(order_id, review_creation_date, review_score, review_comment_message_translated, sentiment_score, sentiment_magnitude) VALUES (?, ?, ?, ?, ?, ?)'\n",
        "for row in data.itertuples():\n",
        "    cursor.execute(query,\n",
        "    row.order_id,\n",
        "    row.review_creation_date,\n",
        "    row.review_score,\n",
        "    row.review_comment_message_translated,\n",
        "    row.sentiment_score,\n",
        "    row.sentiment_magnitude\n",
        "    )\n",
        "\n",
        "    conn.commit()"
      ]
    }
  ],
  "metadata": {
    "kernelspec": {
      "display_name": "base",
      "language": "python",
      "name": "python3"
    },
    "language_info": {
      "codemirror_mode": {
        "name": "ipython",
        "version": 3
      },
      "file_extension": ".py",
      "mimetype": "text/x-python",
      "name": "python",
      "nbconvert_exporter": "python",
      "pygments_lexer": "ipython3",
      "version": "3.10.9"
    },
    "colab": {
      "provenance": [],
      "include_colab_link": true
    }
  },
  "nbformat": 4,
  "nbformat_minor": 0
}