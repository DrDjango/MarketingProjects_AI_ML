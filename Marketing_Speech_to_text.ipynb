{
  "nbformat": 4,
  "nbformat_minor": 0,
  "metadata": {
    "colab": {
      "provenance": [],
      "authorship_tag": "ABX9TyO+K0HYcnhzlX9XwQfAVMe9",
      "include_colab_link": true
    },
    "kernelspec": {
      "name": "python3",
      "display_name": "Python 3"
    },
    "language_info": {
      "name": "python"
    }
  },
  "cells": [
    {
      "cell_type": "markdown",
      "metadata": {
        "id": "view-in-github",
        "colab_type": "text"
      },
      "source": [
        "<a href=\"https://colab.research.google.com/github/DrDjango/Projects/blob/main/Marketing_Speech_to_text.ipynb\" target=\"_parent\"><img src=\"https://colab.research.google.com/assets/colab-badge.svg\" alt=\"Open In Colab\"/></a>"
      ]
    },
    {
      "cell_type": "code",
      "execution_count": null,
      "metadata": {
        "colab": {
          "base_uri": "https://localhost:8080/",
          "height": 776
        },
        "id": "xERJbvuIT2Ts",
        "outputId": "b42a0f68-137b-4c1d-92a1-bc665b023481"
      },
      "outputs": [
        {
          "output_type": "stream",
          "name": "stdout",
          "text": [
            "Requirement already satisfied: google-cloud-storage in /usr/local/lib/python3.10/dist-packages (2.8.0)\n",
            "Collecting google-cloud-storage\n",
            "  Downloading google_cloud_storage-2.14.0-py2.py3-none-any.whl (121 kB)\n",
            "\u001b[2K     \u001b[90m━━━━━━━━━━━━━━━━━━━━━━━━━━━━━━━━━━━━━━━━\u001b[0m \u001b[32m121.6/121.6 kB\u001b[0m \u001b[31m1.6 MB/s\u001b[0m eta \u001b[36m0:00:00\u001b[0m\n",
            "\u001b[?25hCollecting google-auth<3.0dev,>=2.23.3 (from google-cloud-storage)\n",
            "  Downloading google_auth-2.27.0-py2.py3-none-any.whl (186 kB)\n",
            "\u001b[2K     \u001b[90m━━━━━━━━━━━━━━━━━━━━━━━━━━━━━━━━━━━━━━━━\u001b[0m \u001b[32m186.8/186.8 kB\u001b[0m \u001b[31m4.5 MB/s\u001b[0m eta \u001b[36m0:00:00\u001b[0m\n",
            "\u001b[?25hRequirement already satisfied: google-api-core!=2.0.*,!=2.1.*,!=2.2.*,!=2.3.0,<3.0.0dev,>=1.31.5 in /usr/local/lib/python3.10/dist-packages (from google-cloud-storage) (2.11.1)\n",
            "Requirement already satisfied: google-cloud-core<3.0dev,>=2.3.0 in /usr/local/lib/python3.10/dist-packages (from google-cloud-storage) (2.3.3)\n",
            "Requirement already satisfied: google-resumable-media>=2.6.0 in /usr/local/lib/python3.10/dist-packages (from google-cloud-storage) (2.7.0)\n",
            "Requirement already satisfied: requests<3.0.0dev,>=2.18.0 in /usr/local/lib/python3.10/dist-packages (from google-cloud-storage) (2.31.0)\n",
            "Requirement already satisfied: google-crc32c<2.0dev,>=1.0 in /usr/local/lib/python3.10/dist-packages (from google-cloud-storage) (1.5.0)\n",
            "Requirement already satisfied: googleapis-common-protos<2.0.dev0,>=1.56.2 in /usr/local/lib/python3.10/dist-packages (from google-api-core!=2.0.*,!=2.1.*,!=2.2.*,!=2.3.0,<3.0.0dev,>=1.31.5->google-cloud-storage) (1.62.0)\n",
            "Requirement already satisfied: protobuf!=3.20.0,!=3.20.1,!=4.21.0,!=4.21.1,!=4.21.2,!=4.21.3,!=4.21.4,!=4.21.5,<5.0.0.dev0,>=3.19.5 in /usr/local/lib/python3.10/dist-packages (from google-api-core!=2.0.*,!=2.1.*,!=2.2.*,!=2.3.0,<3.0.0dev,>=1.31.5->google-cloud-storage) (3.20.3)\n",
            "Requirement already satisfied: cachetools<6.0,>=2.0.0 in /usr/local/lib/python3.10/dist-packages (from google-auth<3.0dev,>=2.23.3->google-cloud-storage) (5.3.2)\n",
            "Requirement already satisfied: pyasn1-modules>=0.2.1 in /usr/local/lib/python3.10/dist-packages (from google-auth<3.0dev,>=2.23.3->google-cloud-storage) (0.3.0)\n",
            "Requirement already satisfied: rsa<5,>=3.1.4 in /usr/local/lib/python3.10/dist-packages (from google-auth<3.0dev,>=2.23.3->google-cloud-storage) (4.9)\n",
            "Requirement already satisfied: charset-normalizer<4,>=2 in /usr/local/lib/python3.10/dist-packages (from requests<3.0.0dev,>=2.18.0->google-cloud-storage) (3.3.2)\n",
            "Requirement already satisfied: idna<4,>=2.5 in /usr/local/lib/python3.10/dist-packages (from requests<3.0.0dev,>=2.18.0->google-cloud-storage) (3.6)\n",
            "Requirement already satisfied: urllib3<3,>=1.21.1 in /usr/local/lib/python3.10/dist-packages (from requests<3.0.0dev,>=2.18.0->google-cloud-storage) (2.0.7)\n",
            "Requirement already satisfied: certifi>=2017.4.17 in /usr/local/lib/python3.10/dist-packages (from requests<3.0.0dev,>=2.18.0->google-cloud-storage) (2023.11.17)\n",
            "Requirement already satisfied: pyasn1<0.6.0,>=0.4.6 in /usr/local/lib/python3.10/dist-packages (from pyasn1-modules>=0.2.1->google-auth<3.0dev,>=2.23.3->google-cloud-storage) (0.5.1)\n",
            "Installing collected packages: google-auth, google-cloud-storage\n",
            "  Attempting uninstall: google-auth\n",
            "    Found existing installation: google-auth 2.17.3\n",
            "    Uninstalling google-auth-2.17.3:\n",
            "      Successfully uninstalled google-auth-2.17.3\n",
            "  Attempting uninstall: google-cloud-storage\n",
            "    Found existing installation: google-cloud-storage 2.8.0\n",
            "    Uninstalling google-cloud-storage-2.8.0:\n",
            "      Successfully uninstalled google-cloud-storage-2.8.0\n",
            "\u001b[31mERROR: pip's dependency resolver does not currently take into account all the packages that are installed. This behaviour is the source of the following dependency conflicts.\n",
            "llmx 0.0.15a0 requires cohere, which is not installed.\n",
            "llmx 0.0.15a0 requires openai, which is not installed.\n",
            "llmx 0.0.15a0 requires tiktoken, which is not installed.\n",
            "google-colab 1.0.0 requires google-auth==2.17.3, but you have google-auth 2.27.0 which is incompatible.\u001b[0m\u001b[31m\n",
            "\u001b[0mSuccessfully installed google-auth-2.27.0 google-cloud-storage-2.14.0\n"
          ]
        },
        {
          "output_type": "display_data",
          "data": {
            "application/vnd.colab-display-data+json": {
              "pip_warning": {
                "packages": [
                  "google"
                ]
              }
            }
          },
          "metadata": {}
        }
      ],
      "source": [
        "pip install --upgrade google-cloud-storage"
      ]
    },
    {
      "cell_type": "code",
      "source": [
        "!pip install google-cloud-speech"
      ],
      "metadata": {
        "colab": {
          "base_uri": "https://localhost:8080/",
          "height": 499
        },
        "id": "1UFr_SVnUP9C",
        "outputId": "c17e950c-0f9c-4feb-db17-18bd591b0518"
      },
      "execution_count": null,
      "outputs": [
        {
          "output_type": "stream",
          "name": "stdout",
          "text": [
            "Collecting google-cloud-speech\n",
            "  Downloading google_cloud_speech-2.23.0-py2.py3-none-any.whl (274 kB)\n",
            "\u001b[2K     \u001b[90m━━━━━━━━━━━━━━━━━━━━━━━━━━━━━━━━━━━━━━━━\u001b[0m \u001b[32m274.5/274.5 kB\u001b[0m \u001b[31m2.1 MB/s\u001b[0m eta \u001b[36m0:00:00\u001b[0m\n",
            "\u001b[?25hRequirement already satisfied: google-api-core[grpc]!=2.0.*,!=2.1.*,!=2.10.*,!=2.2.*,!=2.3.*,!=2.4.*,!=2.5.*,!=2.6.*,!=2.7.*,!=2.8.*,!=2.9.*,<3.0.0dev,>=1.34.0 in /usr/local/lib/python3.10/dist-packages (from google-cloud-speech) (2.11.1)\n",
            "Requirement already satisfied: proto-plus<2.0.0dev,>=1.22.3 in /usr/local/lib/python3.10/dist-packages (from google-cloud-speech) (1.23.0)\n",
            "Requirement already satisfied: protobuf!=3.20.0,!=3.20.1,!=4.21.0,!=4.21.1,!=4.21.2,!=4.21.3,!=4.21.4,!=4.21.5,<5.0.0dev,>=3.19.5 in /usr/local/lib/python3.10/dist-packages (from google-cloud-speech) (3.20.3)\n",
            "Requirement already satisfied: googleapis-common-protos<2.0.dev0,>=1.56.2 in /usr/local/lib/python3.10/dist-packages (from google-api-core[grpc]!=2.0.*,!=2.1.*,!=2.10.*,!=2.2.*,!=2.3.*,!=2.4.*,!=2.5.*,!=2.6.*,!=2.7.*,!=2.8.*,!=2.9.*,<3.0.0dev,>=1.34.0->google-cloud-speech) (1.62.0)\n",
            "Requirement already satisfied: google-auth<3.0.dev0,>=2.14.1 in /usr/local/lib/python3.10/dist-packages (from google-api-core[grpc]!=2.0.*,!=2.1.*,!=2.10.*,!=2.2.*,!=2.3.*,!=2.4.*,!=2.5.*,!=2.6.*,!=2.7.*,!=2.8.*,!=2.9.*,<3.0.0dev,>=1.34.0->google-cloud-speech) (2.27.0)\n",
            "Requirement already satisfied: requests<3.0.0.dev0,>=2.18.0 in /usr/local/lib/python3.10/dist-packages (from google-api-core[grpc]!=2.0.*,!=2.1.*,!=2.10.*,!=2.2.*,!=2.3.*,!=2.4.*,!=2.5.*,!=2.6.*,!=2.7.*,!=2.8.*,!=2.9.*,<3.0.0dev,>=1.34.0->google-cloud-speech) (2.31.0)\n",
            "Requirement already satisfied: grpcio<2.0dev,>=1.33.2 in /usr/local/lib/python3.10/dist-packages (from google-api-core[grpc]!=2.0.*,!=2.1.*,!=2.10.*,!=2.2.*,!=2.3.*,!=2.4.*,!=2.5.*,!=2.6.*,!=2.7.*,!=2.8.*,!=2.9.*,<3.0.0dev,>=1.34.0->google-cloud-speech) (1.60.0)\n",
            "Requirement already satisfied: grpcio-status<2.0.dev0,>=1.33.2 in /usr/local/lib/python3.10/dist-packages (from google-api-core[grpc]!=2.0.*,!=2.1.*,!=2.10.*,!=2.2.*,!=2.3.*,!=2.4.*,!=2.5.*,!=2.6.*,!=2.7.*,!=2.8.*,!=2.9.*,<3.0.0dev,>=1.34.0->google-cloud-speech) (1.48.2)\n",
            "Requirement already satisfied: cachetools<6.0,>=2.0.0 in /usr/local/lib/python3.10/dist-packages (from google-auth<3.0.dev0,>=2.14.1->google-api-core[grpc]!=2.0.*,!=2.1.*,!=2.10.*,!=2.2.*,!=2.3.*,!=2.4.*,!=2.5.*,!=2.6.*,!=2.7.*,!=2.8.*,!=2.9.*,<3.0.0dev,>=1.34.0->google-cloud-speech) (5.3.2)\n",
            "Requirement already satisfied: pyasn1-modules>=0.2.1 in /usr/local/lib/python3.10/dist-packages (from google-auth<3.0.dev0,>=2.14.1->google-api-core[grpc]!=2.0.*,!=2.1.*,!=2.10.*,!=2.2.*,!=2.3.*,!=2.4.*,!=2.5.*,!=2.6.*,!=2.7.*,!=2.8.*,!=2.9.*,<3.0.0dev,>=1.34.0->google-cloud-speech) (0.3.0)\n",
            "Requirement already satisfied: rsa<5,>=3.1.4 in /usr/local/lib/python3.10/dist-packages (from google-auth<3.0.dev0,>=2.14.1->google-api-core[grpc]!=2.0.*,!=2.1.*,!=2.10.*,!=2.2.*,!=2.3.*,!=2.4.*,!=2.5.*,!=2.6.*,!=2.7.*,!=2.8.*,!=2.9.*,<3.0.0dev,>=1.34.0->google-cloud-speech) (4.9)\n",
            "Requirement already satisfied: charset-normalizer<4,>=2 in /usr/local/lib/python3.10/dist-packages (from requests<3.0.0.dev0,>=2.18.0->google-api-core[grpc]!=2.0.*,!=2.1.*,!=2.10.*,!=2.2.*,!=2.3.*,!=2.4.*,!=2.5.*,!=2.6.*,!=2.7.*,!=2.8.*,!=2.9.*,<3.0.0dev,>=1.34.0->google-cloud-speech) (3.3.2)\n",
            "Requirement already satisfied: idna<4,>=2.5 in /usr/local/lib/python3.10/dist-packages (from requests<3.0.0.dev0,>=2.18.0->google-api-core[grpc]!=2.0.*,!=2.1.*,!=2.10.*,!=2.2.*,!=2.3.*,!=2.4.*,!=2.5.*,!=2.6.*,!=2.7.*,!=2.8.*,!=2.9.*,<3.0.0dev,>=1.34.0->google-cloud-speech) (3.6)\n",
            "Requirement already satisfied: urllib3<3,>=1.21.1 in /usr/local/lib/python3.10/dist-packages (from requests<3.0.0.dev0,>=2.18.0->google-api-core[grpc]!=2.0.*,!=2.1.*,!=2.10.*,!=2.2.*,!=2.3.*,!=2.4.*,!=2.5.*,!=2.6.*,!=2.7.*,!=2.8.*,!=2.9.*,<3.0.0dev,>=1.34.0->google-cloud-speech) (2.0.7)\n",
            "Requirement already satisfied: certifi>=2017.4.17 in /usr/local/lib/python3.10/dist-packages (from requests<3.0.0.dev0,>=2.18.0->google-api-core[grpc]!=2.0.*,!=2.1.*,!=2.10.*,!=2.2.*,!=2.3.*,!=2.4.*,!=2.5.*,!=2.6.*,!=2.7.*,!=2.8.*,!=2.9.*,<3.0.0dev,>=1.34.0->google-cloud-speech) (2023.11.17)\n",
            "Requirement already satisfied: pyasn1<0.6.0,>=0.4.6 in /usr/local/lib/python3.10/dist-packages (from pyasn1-modules>=0.2.1->google-auth<3.0.dev0,>=2.14.1->google-api-core[grpc]!=2.0.*,!=2.1.*,!=2.10.*,!=2.2.*,!=2.3.*,!=2.4.*,!=2.5.*,!=2.6.*,!=2.7.*,!=2.8.*,!=2.9.*,<3.0.0dev,>=1.34.0->google-cloud-speech) (0.5.1)\n",
            "Installing collected packages: google-cloud-speech\n",
            "Successfully installed google-cloud-speech-2.23.0\n"
          ]
        },
        {
          "output_type": "display_data",
          "data": {
            "application/vnd.colab-display-data+json": {
              "pip_warning": {
                "packages": [
                  "google"
                ]
              }
            }
          },
          "metadata": {}
        }
      ]
    },
    {
      "cell_type": "code",
      "source": [
        "import os\n",
        "import pprint\n",
        "from google.cloud import storage\n",
        "from google.cloud import speech"
      ],
      "metadata": {
        "id": "c8sVpCYaUDvw"
      },
      "execution_count": null,
      "outputs": []
    },
    {
      "cell_type": "code",
      "source": [
        "# Create environment variables\n",
        "os.environ[\"GOOGLE_APPLICATION_CREDENTIALS\"] = \"service-account.json\""
      ],
      "metadata": {
        "id": "e4CjkvQ-UKEa"
      },
      "execution_count": null,
      "outputs": []
    },
    {
      "cell_type": "code",
      "source": [
        "def list_blobs(bucket_name):\n",
        "    \"\"\"Lists all the blobs in the bucket.\"\"\"\n",
        "    # bucket_name = \"your-bucket-name\"\n",
        "\n",
        "    storage_client = storage.Client()\n",
        "\n",
        "    # Note: Client.list_blobs requires at least package version 1.17.0.\n",
        "    blobs = storage_client.list_blobs(bucket_name)\n",
        "\n",
        "    # Note: The call returns a response only when the iterator is consumed.\n",
        "    return blobs"
      ],
      "metadata": {
        "id": "mIkuksGhUXuI"
      },
      "execution_count": null,
      "outputs": []
    },
    {
      "cell_type": "code",
      "source": [
        "bucket_name = \"admn5015w24-as\"\n",
        "list_blobs(bucket_name)"
      ],
      "metadata": {
        "colab": {
          "base_uri": "https://localhost:8080/"
        },
        "id": "L4N7pc_ZUaUP",
        "outputId": "ae575e3c-fe14-4d4c-d14b-b6b54f9e9fc0"
      },
      "execution_count": null,
      "outputs": [
        {
          "output_type": "execute_result",
          "data": {
            "text/plain": [
              "<google.api_core.page_iterator.HTTPIterator at 0x781fc5b091b0>"
            ]
          },
          "metadata": {},
          "execution_count": 6
        }
      ]
    },
    {
      "cell_type": "code",
      "source": [
        "def extract_audio_gcs(gcs_uri):\n",
        "    \"\"\"Asynchronously transcribes the audio file specified by the gcs_uri.\"\"\"\n",
        "\n",
        "    client = speech.SpeechClient()\n",
        "\n",
        "    audio = speech.RecognitionAudio(uri=gcs_uri)\n",
        "    config = speech.RecognitionConfig(\n",
        "        encoding=speech.RecognitionConfig.AudioEncoding.LINEAR16,\n",
        "        audio_channel_count=2,\n",
        "        language_code=\"en-US\",\n",
        "    )\n",
        "\n",
        "    operation = client.long_running_recognize(config=config, audio=audio)\n",
        "\n",
        "    print(\"Waiting for operation to complete...\")\n",
        "    response = operation.result(timeout=120)\n",
        "\n",
        "    return response"
      ],
      "metadata": {
        "id": "z73SfHidZ--O"
      },
      "execution_count": null,
      "outputs": []
    },
    {
      "cell_type": "code",
      "source": [
        "bucket_name = \"admn5015w24-as\"\n",
        "blobs = list_blobs(bucket_name)\n",
        "\n",
        "# Print blobs\n",
        "for blob in blobs:\n",
        "  print(blob.name)\n",
        "\n",
        "# Extract audio from file\n",
        "gcs_uri = \"gs://\" + bucket_name + \"/\" + blob.name\n",
        "print(\"\\nThis is the uri: {}\".format(gcs_uri))\n",
        "\n",
        "response = extract_audio_gcs(gcs_uri=gcs_uri)\n",
        "pprint.pprint(response)"
      ],
      "metadata": {
        "colab": {
          "base_uri": "https://localhost:8080/"
        },
        "id": "hlYxkR8fdCX7",
        "outputId": "df3705cd-ee49-41b7-fe2e-4e9f778b853d"
      },
      "execution_count": 49,
      "outputs": [
        {
          "output_type": "stream",
          "name": "stdout",
          "text": [
            "Mock Call #22： (Healthcare Account) Authorization Denial Mock Call.wav\n",
            "\n",
            "This is the uri: gs://admn5015w24-as/Mock Call #22： (Healthcare Account) Authorization Denial Mock Call.wav\n",
            "Waiting for operation to complete...\n",
            "results {\n",
            "  alternatives {\n",
            "    transcript: \"thank you for calling United Care this is Jolene how may I assist you today\"\n",
            "    confidence: 0.8893221616744995\n",
            "  }\n",
            "  result_end_time {\n",
            "    seconds: 15\n",
            "    nanos: 620000000\n",
            "  }\n",
            "  language_code: \"en-us\"\n",
            "}\n",
            "results {\n",
            "  alternatives {\n",
            "    transcript: \" hi my name is Cassandra but okay I\\'m calling from Michigan medical center but I\\'m checking on a claim status\"\n",
            "    confidence: 0.8972458839416504\n",
            "  }\n",
            "  result_end_time {\n",
            "    seconds: 23\n",
            "    nanos: 610000000\n",
            "  }\n",
            "  language_code: \"en-us\"\n",
            "}\n",
            "results {\n",
            "  alternatives {\n",
            "    transcript: \" sure I can associate to check on the claim status by the way I\\'ll let me have your best call back number just in case the line got disconnected my call back number is 734-976-5220\"\n",
            "    confidence: 0.9251235723495483\n",
            "  }\n",
            "  result_end_time {\n",
            "    seconds: 39\n",
            "    nanos: 820000000\n",
            "  }\n",
            "  language_code: \"en-us\"\n",
            "}\n",
            "results {\n",
            "  alternatives {\n",
            "    transcript: \" thank you and I may also have your provider and PA number\"\n",
            "    confidence: 0.9088250994682312\n",
            "  }\n",
            "  result_end_time {\n",
            "    seconds: 45\n",
            "    nanos: 80000000\n",
            "  }\n",
            "  language_code: \"en-us\"\n",
            "}\n",
            "results {\n",
            "  alternatives {\n",
            "    transcript: \" okay my provider a number is is going to be to 313-771-1139 to provide information now I only have two member ID\"\n",
            "    confidence: 0.8607866168022156\n",
            "  }\n",
            "  result_end_time {\n",
            "    seconds: 62\n",
            "    nanos: 60000000\n",
            "  }\n",
            "  language_code: \"en-us\"\n",
            "}\n",
            "results {\n",
            "  alternatives {\n",
            "    transcript: \" sure number ID is H as in Henry has ended Embrace 54615 60\"\n",
            "    confidence: 0.9040345549583435\n",
            "  }\n",
            "  result_end_time {\n",
            "    seconds: 72\n",
            "    nanos: 420000000\n",
            "  }\n",
            "  language_code: \"en-us\"\n",
            "}\n",
            "results {\n",
            "  alternatives {\n",
            "    transcript: \" thank you and can you please verify the patient name and date of birth\"\n",
            "    confidence: 0.9260077476501465\n",
            "  }\n",
            "  result_end_time {\n",
            "    seconds: 78\n",
            "    nanos: 220000000\n",
            "  }\n",
            "  language_code: \"en-us\"\n",
            "}\n",
            "results {\n",
            "  alternatives {\n",
            "    transcript: \" okay patient name is Orlando West and take birth is January 22nd of 1948\"\n",
            "    confidence: 0.9080170392990112\n",
            "  }\n",
            "  result_end_time {\n",
            "    seconds: 88\n",
            "    nanos: 870000000\n",
            "  }\n",
            "  language_code: \"en-us\"\n",
            "}\n",
            "results {\n",
            "  alternatives {\n",
            "    transcript: \" thank you let me just verified as patient information okay bear with me yeah sure\"\n",
            "    confidence: 0.8832939863204956\n",
            "  }\n",
            "  result_end_time {\n",
            "    seconds: 99\n",
            "    nanos: 620000000\n",
            "  }\n",
            "  language_code: \"en-us\"\n",
            "}\n",
            "results {\n",
            "  alternatives {\n",
            "    transcript: \" alright I already have the patient formation with me you\\'ve mentioned that you want to check on the claim status refers 2022\"\n",
            "    confidence: 0.8864211440086365\n",
            "  }\n",
            "  result_end_time {\n",
            "    seconds: 121\n",
            "    nanos: 490000000\n",
            "  }\n",
            "  language_code: \"en-us\"\n",
            "}\n",
            "results {\n",
            "  alternatives {\n",
            "    transcript: \" okay man I would have bailed him out of this claim\"\n",
            "    confidence: 0.8367499709129333\n",
            "  }\n",
            "  result_end_time {\n",
            "    seconds: 128\n",
            "    nanos: 520000000\n",
            "  }\n",
            "  language_code: \"en-us\"\n",
            "}\n",
            "results {\n",
            "  alternatives {\n",
            "    transcript: \" building my own is $1,000 even\"\n",
            "    confidence: 0.8507747650146484\n",
            "  }\n",
            "  result_end_time {\n",
            "    seconds: 133\n",
            "    nanos: 440000000\n",
            "  }\n",
            "  language_code: \"en-us\"\n",
            "}\n",
            "results {\n",
            "  alternatives {\n",
            "    transcript: \" okay let me go ahead and check the claim status for you\"\n",
            "    confidence: 0.9203267097473145\n",
            "  }\n",
            "  result_end_time {\n",
            "    seconds: 139\n",
            "    nanos: 400000000\n",
            "  }\n",
            "  language_code: \"en-us\"\n",
            "}\n",
            "results {\n",
            "  alternatives {\n",
            "    transcript: \" no problem just take your time\"\n",
            "    confidence: 0.9013518691062927\n",
            "  }\n",
            "  result_end_time {\n",
            "    seconds: 144\n",
            "    nanos: 640000000\n",
            "  }\n",
            "  language_code: \"en-us\"\n",
            "}\n",
            "results {\n",
            "  alternatives {\n",
            "    transcript: \" alright Cassandra subtract\"\n",
            "    confidence: 0.6809102892875671\n",
            "  }\n",
            "  result_end_time {\n",
            "    seconds: 152\n",
            "    nanos: 720000000\n",
            "  }\n",
            "  language_code: \"en-us\"\n",
            "}\n",
            "results {\n",
            "  alternatives {\n",
            "    transcript: \" this claim was denied us now authorization on file\"\n",
            "    confidence: 0.9336531758308411\n",
            "  }\n",
            "  result_end_time {\n",
            "    seconds: 157\n",
            "    nanos: 80000000\n",
            "  }\n",
            "  language_code: \"en-us\"\n",
            "}\n",
            "results {\n",
            "  alternatives {\n",
            "    transcript: \" okay so I could have got the client received Aid and the denial paid\"\n",
            "    confidence: 0.8382123708724976\n",
            "  }\n",
            "  result_end_time {\n",
            "    seconds: 163\n",
            "    nanos: 570000000\n",
            "  }\n",
            "  language_code: \"en-us\"\n",
            "}\n",
            "results {\n",
            "  alternatives {\n",
            "    transcript: \" play Mercedes on January 2nd of 2022 and it was denied on January 15th of 2022\"\n",
            "    confidence: 0.926767110824585\n",
            "  }\n",
            "  result_end_time {\n",
            "    seconds: 174\n",
            "    nanos: 210000000\n",
            "  }\n",
            "  language_code: \"en-us\"\n",
            "}\n",
            "results {\n",
            "  alternatives {\n",
            "    transcript: \" okay thank you let me check if I have the odd number in my system\"\n",
            "    confidence: 0.8539547324180603\n",
            "  }\n",
            "  result_end_time {\n",
            "    seconds: 183\n",
            "    nanos: 570000000\n",
            "  }\n",
            "  language_code: \"en-us\"\n",
            "}\n",
            "results {\n",
            "  alternatives {\n",
            "    transcript: \" okay\"\n",
            "    confidence: 0.9615110754966736\n",
            "  }\n",
            "  result_end_time {\n",
            "    seconds: 186\n",
            "    nanos: 150000000\n",
            "  }\n",
            "  language_code: \"en-us\"\n",
            "}\n",
            "results {\n",
            "  alternatives {\n",
            "    transcript: \" all right I have the right number can you check if this other number is valid for my date of service or not\"\n",
            "    confidence: 0.9074947237968445\n",
            "  }\n",
            "  result_end_time {\n",
            "    seconds: 202\n",
            "    nanos: 270000000\n",
            "  }\n",
            "  language_code: \"en-us\"\n",
            "}\n",
            "results {\n",
            "  alternatives {\n",
            "    transcript: \" okay odd number is 1 4 3 1 4 3 1 4 3\"\n",
            "    confidence: 0.9342957735061646\n",
            "  }\n",
            "  result_end_time {\n",
            "    seconds: 210\n",
            "    nanos: 770000000\n",
            "  }\n",
            "  language_code: \"en-us\"\n",
            "}\n",
            "results {\n",
            "  alternatives {\n",
            "    transcript: \" thank you\"\n",
            "    confidence: 0.9607588052749634\n",
            "  }\n",
            "  result_end_time {\n",
            "    seconds: 214\n",
            "    nanos: 810000000\n",
            "  }\n",
            "  language_code: \"en-us\"\n",
            "}\n",
            "results {\n",
            "  alternatives {\n",
            "    transcript: \" well\"\n",
            "    confidence: 0.9560327529907227\n",
            "  }\n",
            "  result_end_time {\n",
            "    seconds: 221\n",
            "    nanos: 490000000\n",
            "  }\n",
            "  language_code: \"en-us\"\n",
            "}\n",
            "results {\n",
            "  alternatives {\n",
            "    transcript: \" I\\'ve seen that this authorization is invalid for date of service\"\n",
            "    confidence: 0.9241586923599243\n",
            "  }\n",
            "  result_end_time {\n",
            "    seconds: 227\n",
            "    nanos: 320000000\n",
            "  }\n",
            "  language_code: \"en-us\"\n",
            "}\n",
            "results {\n",
            "  alternatives {\n",
            "    transcript: \" okay so can we obtain a retro authorization for this time\"\n",
            "    confidence: 0.9363481402397156\n",
            "  }\n",
            "  result_end_time {\n",
            "    seconds: 233\n",
            "    nanos: 750000000\n",
            "  }\n",
            "  language_code: \"en-us\"\n",
            "}\n",
            "results {\n",
            "  alternatives {\n",
            "    transcript: \" no I\\'m sorry but did not provide retro authorization\"\n",
            "    confidence: 0.9677236080169678\n",
            "  }\n",
            "  result_end_time {\n",
            "    seconds: 239\n",
            "    nanos: 460000000\n",
            "  }\n",
            "  language_code: \"en-us\"\n",
            "}\n",
            "results {\n",
            "  alternatives {\n",
            "    transcript: \" okay so can we Appeal on this plane\"\n",
            "    confidence: 0.9278771877288818\n",
            "  }\n",
            "  result_end_time {\n",
            "    seconds: 244\n",
            "    nanos: 960000000\n",
            "  }\n",
            "  language_code: \"en-us\"\n",
            "}\n",
            "results {\n",
            "  alternatives {\n",
            "    transcript: \" yes you have 120 days from denial Bay to send an appeal for this claim so and that code is going to go through fuels mailing addresses you\\'re ready\"\n",
            "    confidence: 0.9218804836273193\n",
            "  }\n",
            "  result_end_time {\n",
            "    seconds: 258\n",
            "    nanos: 800000000\n",
            "  }\n",
            "  language_code: \"en-us\"\n",
            "}\n",
            "results {\n",
            "  alternatives {\n",
            "    transcript: \" yep\"\n",
            "    confidence: 0.6457992792129517\n",
            "  }\n",
            "  result_end_time {\n",
            "    seconds: 260\n",
            "    nanos: 570000000\n",
            "  }\n",
            "  language_code: \"en-us\"\n",
            "}\n",
            "results {\n",
            "  alternatives {\n",
            "    transcript: \" appeals mailing address is PO box\"\n",
            "    confidence: 0.9719639420509338\n",
            "  }\n",
            "  result_end_time {\n",
            "    seconds: 264\n",
            "    nanos: 960000000\n",
            "  }\n",
            "  language_code: \"en-us\"\n",
            "}\n",
            "results {\n",
            "  alternatives {\n",
            "    transcript: \" 132\"\n",
            "    confidence: 0.9093623757362366\n",
            "  }\n",
            "  result_end_time {\n",
            "    seconds: 268\n",
            "    nanos: 120000000\n",
            "  }\n",
            "  language_code: \"en-us\"\n",
            "}\n",
            "results {\n",
            "  alternatives {\n",
            "    transcript: \" 02\"\n",
            "    confidence: 0.5176066160202026\n",
            "  }\n",
            "  result_end_time {\n",
            "    seconds: 270\n",
            "    nanos: 610000000\n",
            "  }\n",
            "  language_code: \"en-us\"\n",
            "}\n",
            "results {\n",
            "  alternatives {\n",
            "    transcript: \" Atlanta Georgia\"\n",
            "    confidence: 0.8370884656906128\n",
            "  }\n",
            "  result_end_time {\n",
            "    seconds: 273\n",
            "    nanos: 820000000\n",
            "  }\n",
            "  language_code: \"en-us\"\n",
            "}\n",
            "results {\n",
            "  alternatives {\n",
            "    transcript: \" 50320\"\n",
            "    confidence: 0.8229129314422607\n",
            "  }\n",
            "  result_end_time {\n",
            "    seconds: 278\n",
            "    nanos: 470000000\n",
            "  }\n",
            "  language_code: \"en-us\"\n",
            "}\n",
            "results {\n",
            "  alternatives {\n",
            "    transcript: \" PO Box 13202 Atlanta Georgia 50320\"\n",
            "    confidence: 0.9169042110443115\n",
            "  }\n",
            "  result_end_time {\n",
            "    seconds: 286\n",
            "    nanos: 10000000\n",
            "  }\n",
            "  language_code: \"en-us\"\n",
            "}\n",
            "results {\n",
            "  alternatives {\n",
            "    transcript: \" okay thank you and we have to call reference number is 1-1-2\"\n",
            "    confidence: 0.8816985487937927\n",
            "  }\n",
            "  result_end_time {\n",
            "    seconds: 298\n",
            "    nanos: 630000000\n",
            "  }\n",
            "  language_code: \"en-us\"\n",
            "}\n",
            "results {\n",
            "  alternatives {\n",
            "    transcript: \" 692\"\n",
            "    confidence: 0.8502733111381531\n",
            "  }\n",
            "  result_end_time {\n",
            "    seconds: 301\n",
            "    nanos: 50000000\n",
            "  }\n",
            "  language_code: \"en-us\"\n",
            "}\n",
            "results {\n",
            "  alternatives {\n",
            "    transcript: \" okay thanks for help Shalane that\\'s all I mean have a nice day bye thank you for\"\n",
            "    confidence: 0.9310222864151001\n",
            "  }\n",
            "  result_end_time {\n",
            "    seconds: 310\n",
            "    nanos: 810000000\n",
            "  }\n",
            "  language_code: \"en-us\"\n",
            "}\n",
            "total_billed_time {\n",
            "  seconds: 317\n",
            "}\n",
            "request_id: 5732242733311268063\n",
            "\n"
          ]
        }
      ]
    },
    {
      "cell_type": "code",
      "source": [
        "import urllib.parse\n",
        "import requests\n",
        "import json"
      ],
      "metadata": {
        "id": "HYjhLae7lnD4"
      },
      "execution_count": 15,
      "outputs": []
    },
    {
      "cell_type": "code",
      "source": [
        "\n",
        "data_to_save = []\n",
        "\n",
        "for item in response.results:\n",
        "    print(item.alternatives[0].transcript)\n",
        "    print(item.alternatives[0].confidence)\n",
        "    print(\"\\n\")\n",
        "\n",
        "    # Add each item's data to the list\n",
        "    data_to_save.append({\n",
        "        \"transcript\": item.alternatives[0].transcript,\n",
        "        \"confidence\": item.alternatives[0].confidence\n",
        "    })\n",
        "\n",
        "# Specify the file name\n",
        "file_name = \"output.json\"\n",
        "\n",
        "# Write the data to a JSON file\n",
        "with open(file_name, 'w') as file:\n",
        "    json.dump(data_to_save, file, indent=4)"
      ],
      "metadata": {
        "colab": {
          "base_uri": "https://localhost:8080/"
        },
        "id": "j8kGV8OfmHjm",
        "outputId": "4b075ce1-5a0b-47a9-dd00-b059b4c1f422"
      },
      "execution_count": 50,
      "outputs": [
        {
          "output_type": "stream",
          "name": "stdout",
          "text": [
            "thank you for calling United Care this is Jolene how may I assist you today\n",
            "0.8893221616744995\n",
            "\n",
            "\n",
            " hi my name is Cassandra but okay I'm calling from Michigan medical center but I'm checking on a claim status\n",
            "0.8972458839416504\n",
            "\n",
            "\n",
            " sure I can associate to check on the claim status by the way I'll let me have your best call back number just in case the line got disconnected my call back number is 734-976-5220\n",
            "0.9251235723495483\n",
            "\n",
            "\n",
            " thank you and I may also have your provider and PA number\n",
            "0.9088250994682312\n",
            "\n",
            "\n",
            " okay my provider a number is is going to be to 313-771-1139 to provide information now I only have two member ID\n",
            "0.8607866168022156\n",
            "\n",
            "\n",
            " sure number ID is H as in Henry has ended Embrace 54615 60\n",
            "0.9040345549583435\n",
            "\n",
            "\n",
            " thank you and can you please verify the patient name and date of birth\n",
            "0.9260077476501465\n",
            "\n",
            "\n",
            " okay patient name is Orlando West and take birth is January 22nd of 1948\n",
            "0.9080170392990112\n",
            "\n",
            "\n",
            " thank you let me just verified as patient information okay bear with me yeah sure\n",
            "0.8832939863204956\n",
            "\n",
            "\n",
            " alright I already have the patient formation with me you've mentioned that you want to check on the claim status refers 2022\n",
            "0.8864211440086365\n",
            "\n",
            "\n",
            " okay man I would have bailed him out of this claim\n",
            "0.8367499709129333\n",
            "\n",
            "\n",
            " building my own is $1,000 even\n",
            "0.8507747650146484\n",
            "\n",
            "\n",
            " okay let me go ahead and check the claim status for you\n",
            "0.9203267097473145\n",
            "\n",
            "\n",
            " no problem just take your time\n",
            "0.9013518691062927\n",
            "\n",
            "\n",
            " alright Cassandra subtract\n",
            "0.6809102892875671\n",
            "\n",
            "\n",
            " this claim was denied us now authorization on file\n",
            "0.9336531758308411\n",
            "\n",
            "\n",
            " okay so I could have got the client received Aid and the denial paid\n",
            "0.8382123708724976\n",
            "\n",
            "\n",
            " play Mercedes on January 2nd of 2022 and it was denied on January 15th of 2022\n",
            "0.926767110824585\n",
            "\n",
            "\n",
            " okay thank you let me check if I have the odd number in my system\n",
            "0.8539547324180603\n",
            "\n",
            "\n",
            " okay\n",
            "0.9615110754966736\n",
            "\n",
            "\n",
            " all right I have the right number can you check if this other number is valid for my date of service or not\n",
            "0.9074947237968445\n",
            "\n",
            "\n",
            " okay odd number is 1 4 3 1 4 3 1 4 3\n",
            "0.9342957735061646\n",
            "\n",
            "\n",
            " thank you\n",
            "0.9607588052749634\n",
            "\n",
            "\n",
            " well\n",
            "0.9560327529907227\n",
            "\n",
            "\n",
            " I've seen that this authorization is invalid for date of service\n",
            "0.9241586923599243\n",
            "\n",
            "\n",
            " okay so can we obtain a retro authorization for this time\n",
            "0.9363481402397156\n",
            "\n",
            "\n",
            " no I'm sorry but did not provide retro authorization\n",
            "0.9677236080169678\n",
            "\n",
            "\n",
            " okay so can we Appeal on this plane\n",
            "0.9278771877288818\n",
            "\n",
            "\n",
            " yes you have 120 days from denial Bay to send an appeal for this claim so and that code is going to go through fuels mailing addresses you're ready\n",
            "0.9218804836273193\n",
            "\n",
            "\n",
            " yep\n",
            "0.6457992792129517\n",
            "\n",
            "\n",
            " appeals mailing address is PO box\n",
            "0.9719639420509338\n",
            "\n",
            "\n",
            " 132\n",
            "0.9093623757362366\n",
            "\n",
            "\n",
            " 02\n",
            "0.5176066160202026\n",
            "\n",
            "\n",
            " Atlanta Georgia\n",
            "0.8370884656906128\n",
            "\n",
            "\n",
            " 50320\n",
            "0.8229129314422607\n",
            "\n",
            "\n",
            " PO Box 13202 Atlanta Georgia 50320\n",
            "0.9169042110443115\n",
            "\n",
            "\n",
            " okay thank you and we have to call reference number is 1-1-2\n",
            "0.8816985487937927\n",
            "\n",
            "\n",
            " 692\n",
            "0.8502733111381531\n",
            "\n",
            "\n",
            " okay thanks for help Shalane that's all I mean have a nice day bye thank you for\n",
            "0.9310222864151001\n",
            "\n",
            "\n"
          ]
        }
      ]
    },
    {
      "cell_type": "code",
      "source": [
        "# Imports the Google Cloud client library\n",
        "from google.cloud import language_v1\n",
        "import os"
      ],
      "metadata": {
        "id": "J-A2gB9sk8km"
      },
      "execution_count": 11,
      "outputs": []
    },
    {
      "cell_type": "code",
      "source": [
        "# Set the environment variable\n",
        "os.environ[\"GOOGLE_APPLICATION_CREDENTIALS\"] = \"service-account.json\""
      ],
      "metadata": {
        "id": "q0-ZyOAglhCk"
      },
      "execution_count": 12,
      "outputs": []
    },
    {
      "cell_type": "code",
      "source": [
        "\n",
        "# Load the JSON file\n",
        "with open('output.json', 'r') as file:\n",
        "    transcripts = json.load(file)\n",
        "\n",
        "# Initialize a client for the Google Natural Language API\n",
        "client = language_v1.LanguageServiceClient()\n",
        "\n",
        "# Function to analyze sentiment of a text\n",
        "def analyze_sentiment(text):\n",
        "    document = language_v1.Document(content=text, type_=language_v1.Document.Type.PLAIN_TEXT)\n",
        "    sentiment = client.analyze_sentiment(request={\"document\": document}).document_sentiment\n",
        "    return sentiment.score, sentiment.magnitude\n",
        "\n",
        "# Extract transcripts and perform sentiment analysis\n",
        "for item in transcripts:\n",
        "    transcript = item['transcript']  # Extracting the transcript\n",
        "    confidence = item['confidence']  # Extracting the confidence score\n",
        "    score, magnitude = analyze_sentiment(transcript)\n",
        "    print(f\"Transcript: {transcript}\")\n",
        "    print(f\"Confidence: {confidence}\")\n",
        "    print(f\"Sentiment Score: {score}, Magnitude: {magnitude}\")\n",
        "    print(\"\\n\")\n"
      ],
      "metadata": {
        "colab": {
          "base_uri": "https://localhost:8080/"
        },
        "id": "FDxa_UFUneB0",
        "outputId": "0b23060a-60d6-44f3-f764-d84b6c0a0842"
      },
      "execution_count": 51,
      "outputs": [
        {
          "output_type": "stream",
          "name": "stdout",
          "text": [
            "Transcript: thank you for calling United Care this is Jolene how may I assist you today\n",
            "Confidence: 0.8893221616744995\n",
            "Sentiment Score: 0.30000001192092896, Magnitude: 0.30000001192092896\n",
            "\n",
            "\n",
            "Transcript:  hi my name is Cassandra but okay I'm calling from Michigan medical center but I'm checking on a claim status\n",
            "Confidence: 0.8972458839416504\n",
            "Sentiment Score: 0.0, Magnitude: 0.0\n",
            "\n",
            "\n",
            "Transcript:  sure I can associate to check on the claim status by the way I'll let me have your best call back number just in case the line got disconnected my call back number is 734-976-5220\n",
            "Confidence: 0.9251235723495483\n",
            "Sentiment Score: -0.30000001192092896, Magnitude: 0.30000001192092896\n",
            "\n",
            "\n",
            "Transcript:  thank you and I may also have your provider and PA number\n",
            "Confidence: 0.9088250994682312\n",
            "Sentiment Score: 0.800000011920929, Magnitude: 0.800000011920929\n",
            "\n",
            "\n",
            "Transcript:  okay my provider a number is is going to be to 313-771-1139 to provide information now I only have two member ID\n",
            "Confidence: 0.8607866168022156\n",
            "Sentiment Score: -0.4000000059604645, Magnitude: 0.4000000059604645\n",
            "\n",
            "\n",
            "Transcript:  sure number ID is H as in Henry has ended Embrace 54615 60\n",
            "Confidence: 0.9040345549583435\n",
            "Sentiment Score: -0.10000000149011612, Magnitude: 0.10000000149011612\n",
            "\n",
            "\n",
            "Transcript:  thank you and can you please verify the patient name and date of birth\n",
            "Confidence: 0.9260077476501465\n",
            "Sentiment Score: 0.20000000298023224, Magnitude: 0.20000000298023224\n",
            "\n",
            "\n",
            "Transcript:  okay patient name is Orlando West and take birth is January 22nd of 1948\n",
            "Confidence: 0.9080170392990112\n",
            "Sentiment Score: 0.0, Magnitude: 0.0\n",
            "\n",
            "\n",
            "Transcript:  thank you let me just verified as patient information okay bear with me yeah sure\n",
            "Confidence: 0.8832939863204956\n",
            "Sentiment Score: 0.8999999761581421, Magnitude: 0.8999999761581421\n",
            "\n",
            "\n",
            "Transcript:  alright I already have the patient formation with me you've mentioned that you want to check on the claim status refers 2022\n",
            "Confidence: 0.8864211440086365\n",
            "Sentiment Score: 0.0, Magnitude: 0.0\n",
            "\n",
            "\n",
            "Transcript:  okay man I would have bailed him out of this claim\n",
            "Confidence: 0.8367499709129333\n",
            "Sentiment Score: -0.699999988079071, Magnitude: 0.699999988079071\n",
            "\n",
            "\n",
            "Transcript:  building my own is $1,000 even\n",
            "Confidence: 0.8507747650146484\n",
            "Sentiment Score: 0.20000000298023224, Magnitude: 0.20000000298023224\n",
            "\n",
            "\n",
            "Transcript:  okay let me go ahead and check the claim status for you\n",
            "Confidence: 0.9203267097473145\n",
            "Sentiment Score: 0.0, Magnitude: 0.0\n",
            "\n",
            "\n",
            "Transcript:  no problem just take your time\n",
            "Confidence: 0.9013518691062927\n",
            "Sentiment Score: 0.10000000149011612, Magnitude: 0.10000000149011612\n",
            "\n",
            "\n",
            "Transcript:  alright Cassandra subtract\n",
            "Confidence: 0.6809102892875671\n",
            "Sentiment Score: 0.5, Magnitude: 0.5\n",
            "\n",
            "\n",
            "Transcript:  this claim was denied us now authorization on file\n",
            "Confidence: 0.9336531758308411\n",
            "Sentiment Score: -0.800000011920929, Magnitude: 0.800000011920929\n",
            "\n",
            "\n",
            "Transcript:  okay so I could have got the client received Aid and the denial paid\n",
            "Confidence: 0.8382123708724976\n",
            "Sentiment Score: -0.6000000238418579, Magnitude: 0.6000000238418579\n",
            "\n",
            "\n",
            "Transcript:  play Mercedes on January 2nd of 2022 and it was denied on January 15th of 2022\n",
            "Confidence: 0.926767110824585\n",
            "Sentiment Score: -0.699999988079071, Magnitude: 0.699999988079071\n",
            "\n",
            "\n",
            "Transcript:  okay thank you let me check if I have the odd number in my system\n",
            "Confidence: 0.8539547324180603\n",
            "Sentiment Score: 0.20000000298023224, Magnitude: 0.20000000298023224\n",
            "\n",
            "\n",
            "Transcript:  okay\n",
            "Confidence: 0.9615110754966736\n",
            "Sentiment Score: 0.5, Magnitude: 0.5\n",
            "\n",
            "\n",
            "Transcript:  all right I have the right number can you check if this other number is valid for my date of service or not\n",
            "Confidence: 0.9074947237968445\n",
            "Sentiment Score: -0.30000001192092896, Magnitude: 0.30000001192092896\n",
            "\n",
            "\n",
            "Transcript:  okay odd number is 1 4 3 1 4 3 1 4 3\n",
            "Confidence: 0.9342957735061646\n",
            "Sentiment Score: 0.10000000149011612, Magnitude: 0.10000000149011612\n",
            "\n",
            "\n",
            "Transcript:  thank you\n",
            "Confidence: 0.9607588052749634\n",
            "Sentiment Score: 0.800000011920929, Magnitude: 0.800000011920929\n",
            "\n",
            "\n",
            "Transcript:  well\n",
            "Confidence: 0.9560327529907227\n",
            "Sentiment Score: 0.5, Magnitude: 0.5\n",
            "\n",
            "\n",
            "Transcript:  I've seen that this authorization is invalid for date of service\n",
            "Confidence: 0.9241586923599243\n",
            "Sentiment Score: -0.699999988079071, Magnitude: 0.699999988079071\n",
            "\n",
            "\n",
            "Transcript:  okay so can we obtain a retro authorization for this time\n",
            "Confidence: 0.9363481402397156\n",
            "Sentiment Score: -0.10000000149011612, Magnitude: 0.10000000149011612\n",
            "\n",
            "\n",
            "Transcript:  no I'm sorry but did not provide retro authorization\n",
            "Confidence: 0.9677236080169678\n",
            "Sentiment Score: -0.800000011920929, Magnitude: 0.800000011920929\n",
            "\n",
            "\n",
            "Transcript:  okay so can we Appeal on this plane\n",
            "Confidence: 0.9278771877288818\n",
            "Sentiment Score: 0.0, Magnitude: 0.0\n",
            "\n",
            "\n",
            "Transcript:  yes you have 120 days from denial Bay to send an appeal for this claim so and that code is going to go through fuels mailing addresses you're ready\n",
            "Confidence: 0.9218804836273193\n",
            "Sentiment Score: -0.6000000238418579, Magnitude: 0.6000000238418579\n",
            "\n",
            "\n",
            "Transcript:  yep\n",
            "Confidence: 0.6457992792129517\n",
            "Sentiment Score: 0.10000000149011612, Magnitude: 0.10000000149011612\n",
            "\n",
            "\n",
            "Transcript:  appeals mailing address is PO box\n",
            "Confidence: 0.9719639420509338\n",
            "Sentiment Score: 0.0, Magnitude: 0.0\n",
            "\n",
            "\n",
            "Transcript:  132\n",
            "Confidence: 0.9093623757362366\n",
            "Sentiment Score: 0.0, Magnitude: 0.0\n",
            "\n",
            "\n",
            "Transcript:  02\n",
            "Confidence: 0.5176066160202026\n",
            "Sentiment Score: 0.0, Magnitude: 0.0\n",
            "\n",
            "\n",
            "Transcript:  Atlanta Georgia\n",
            "Confidence: 0.8370884656906128\n",
            "Sentiment Score: 0.30000001192092896, Magnitude: 0.30000001192092896\n",
            "\n",
            "\n",
            "Transcript:  50320\n",
            "Confidence: 0.8229129314422607\n",
            "Sentiment Score: 0.30000001192092896, Magnitude: 0.30000001192092896\n",
            "\n",
            "\n",
            "Transcript:  PO Box 13202 Atlanta Georgia 50320\n",
            "Confidence: 0.9169042110443115\n",
            "Sentiment Score: 0.4000000059604645, Magnitude: 0.4000000059604645\n",
            "\n",
            "\n",
            "Transcript:  okay thank you and we have to call reference number is 1-1-2\n",
            "Confidence: 0.8816985487937927\n",
            "Sentiment Score: 0.30000001192092896, Magnitude: 0.30000001192092896\n",
            "\n",
            "\n",
            "Transcript:  692\n",
            "Confidence: 0.8502733111381531\n",
            "Sentiment Score: 0.30000001192092896, Magnitude: 0.30000001192092896\n",
            "\n",
            "\n",
            "Transcript:  okay thanks for help Shalane that's all I mean have a nice day bye thank you for\n",
            "Confidence: 0.9310222864151001\n",
            "Sentiment Score: 0.800000011920929, Magnitude: 0.800000011920929\n",
            "\n",
            "\n"
          ]
        }
      ]
    },
    {
      "cell_type": "code",
      "source": [
        "import matplotlib.pyplot as plt\n",
        "import seaborn as sns"
      ],
      "metadata": {
        "id": "7ld0et2jopCU"
      },
      "execution_count": 28,
      "outputs": []
    },
    {
      "cell_type": "code",
      "source": [
        "# Update transcripts with sentiment analysis\n",
        "for item in transcripts:\n",
        "    score, magnitude = analyze_sentiment(item['transcript'])\n",
        "    item['sentiment_score'] = score\n",
        "    item['sentiment_magnitude'] = magnitude"
      ],
      "metadata": {
        "id": "mD7ZOmLJzopn"
      },
      "execution_count": 54,
      "outputs": []
    },
    {
      "cell_type": "code",
      "source": [
        "# Histogram\n",
        "plt.figure(figsize=(10, 6))\n",
        "sns.histplot(scores, kde=True, color='blue', label='Sentiment Scores')\n",
        "sns.histplot(confidences, kde=True, color='green', label='Confidences', alpha=0.6)\n",
        "plt.title('Distribution of Sentiment Scores and Confidences')\n",
        "plt.xlabel('Value')\n",
        "plt.legend()\n",
        "plt.show()"
      ],
      "metadata": {
        "colab": {
          "base_uri": "https://localhost:8080/",
          "height": 564
        },
        "id": "Ui-ZL9Fx0GRR",
        "outputId": "e5f79545-cc95-4a92-c435-22fcf84cd4c3"
      },
      "execution_count": 57,
      "outputs": [
        {
          "output_type": "display_data",
          "data": {
            "text/plain": [
              "<Figure size 1000x600 with 1 Axes>"
            ],
            "image/png": "[encoded data removed]"
          },
          "metadata": {}
        }
      ]
    },
    {
      "cell_type": "code",
      "source": [
        "# Creating a scatter plot for sentiment score vs. magnitude\n",
        "\n",
        "plt.figure(figsize=(10, 6))\n",
        "\n",
        "sns.scatterplot(x=scores, y=magnitudes)\n",
        "\n",
        "plt.title('Sentiment Scores vs Magnitude')\n",
        "\n",
        "plt.xlabel('Sentiment Score')\n",
        "\n",
        "plt.ylabel('Sentiment Magnitude')\n",
        "\n",
        "plt.show()\n"
      ],
      "metadata": {
        "colab": {
          "base_uri": "https://localhost:8080/",
          "height": 564
        },
        "id": "Mwf-gXyg0L8K",
        "outputId": "c3cba588-bdd6-4276-b6bc-c428a3b40053"
      },
      "execution_count": 58,
      "outputs": [
        {
          "output_type": "display_data",
          "data": {
            "text/plain": [
              "<Figure size 1000x600 with 1 Axes>"
            ],
            "image/png": "[encoded data removed]"
          },
          "metadata": {}
        }
      ]
    },
    {
      "cell_type": "code",
      "source": [
        "# Creating a histogram for sentiment magnitudes\n",
        "\n",
        "plt.figure(figsize=(10, 6))\n",
        "\n",
        "sns.histplot(magnitudes, kde=True, color='green', label='Sentiment Magnitudes')\n",
        "\n",
        "plt.title('Distribution of Sentiment Magnitudes')\n",
        "\n",
        "plt.xlabel('Sentiment Magnitude')\n",
        "\n",
        "plt.legend()\n",
        "\n",
        "plt.show()"
      ],
      "metadata": {
        "colab": {
          "base_uri": "https://localhost:8080/",
          "height": 564
        },
        "id": "FUoU_EbB1RSs",
        "outputId": "a6b0d1ab-afc9-41ff-d9b6-32d1d410bbd0"
      },
      "execution_count": 60,
      "outputs": [
        {
          "output_type": "display_data",
          "data": {
            "text/plain": [
              "<Figure size 1000x600 with 1 Axes>"
            ],
            "image/png": "[encoded data removed]"
          },
          "metadata": {}
        }
      ]
    },
    {
      "cell_type": "markdown",
      "source": [
        "**Store each speech-extracted record in a No-SQL database **"
      ],
      "metadata": {
        "id": "-hVc2EiEA1W4"
      }
    },
    {
      "cell_type": "code",
      "source": [],
      "metadata": {
        "id": "jLU_VOTtKz9Y"
      },
      "execution_count": null,
      "outputs": []
    },
    {
      "cell_type": "code",
      "source": [
        "import firebase_admin\n",
        "from firebase_admin import credentials\n",
        "from firebase_admin import firestore\n",
        "\n",
        "# Use a service account.\n",
        "cred = credentials.Certificate('service-account.json')\n",
        "\n",
        "db = firestore.client()"
      ],
      "metadata": {
        "id": "9NCiAyBVyMDt"
      },
      "execution_count": 124,
      "outputs": []
    },
    {
      "cell_type": "code",
      "source": [
        "# Load the JSON file\n",
        "with open('output.json', 'r') as file:\n",
        "    transcripts = json.load(file)"
      ],
      "metadata": {
        "id": "QE_UlmZZQl2Z"
      },
      "execution_count": 125,
      "outputs": []
    },
    {
      "cell_type": "code",
      "source": [
        "# Function to store a record in Firestore\n",
        "def store_record(wav_filename, sentence_number, sentence_text, sentiment, magnitude, transcription_date):\n",
        "    doc_ref = db.collection('transcriptions').document(wav_filename)\n",
        "    doc_ref.set({\n",
        "        'wav_filename': wav_filename,\n",
        "        'sentence_number': sentence_number,\n",
        "        'sentence_text': sentence_text,\n",
        "        'sentiment': sentiment,\n",
        "        'magnitude': magnitude,\n",
        "        'transcription_date': transcription_date\n",
        "    })"
      ],
      "metadata": {
        "id": "YDAR3bukQpnO"
      },
      "execution_count": 126,
      "outputs": []
    },
    {
      "cell_type": "code",
      "source": [
        "# Iterate over transcripts, analyze sentiment, and store data in Firestore\n",
        "for index, item in enumerate(transcripts):\n",
        "    transcript = item['transcript']\n",
        "    confidence = item['confidence']\n",
        "    score, magnitude = analyze_sentiment(transcript)\n",
        "    # Generate wav_filename and sentence_number\n",
        "    wav_filename = f\"{index+1}.wav\"\n",
        "    sentence_number = index + 1\n",
        "    # Assume transcription_date is today's date\n",
        "    transcription_date = datetime.datetime.now().strftime(\"%Y-%m-%d\")\n",
        "    # Store the record in Firestore\n",
        "    store_record(wav_filename, sentence_number, transcript, score, magnitude, transcription_date)\n",
        "\n",
        "    print(f\"Stored record for file: {wav_filename}\")"
      ],
      "metadata": {
        "colab": {
          "base_uri": "https://localhost:8080/"
        },
        "id": "bnoBfjqMQsEP",
        "outputId": "3991e83c-203e-4b23-e8c7-51bae7ce0341"
      },
      "execution_count": 127,
      "outputs": [
        {
          "output_type": "stream",
          "name": "stdout",
          "text": [
            "Stored record for file: 1.wav\n",
            "Stored record for file: 2.wav\n",
            "Stored record for file: 3.wav\n",
            "Stored record for file: 4.wav\n",
            "Stored record for file: 5.wav\n",
            "Stored record for file: 6.wav\n",
            "Stored record for file: 7.wav\n",
            "Stored record for file: 8.wav\n",
            "Stored record for file: 9.wav\n",
            "Stored record for file: 10.wav\n",
            "Stored record for file: 11.wav\n",
            "Stored record for file: 12.wav\n",
            "Stored record for file: 13.wav\n",
            "Stored record for file: 14.wav\n",
            "Stored record for file: 15.wav\n",
            "Stored record for file: 16.wav\n",
            "Stored record for file: 17.wav\n",
            "Stored record for file: 18.wav\n",
            "Stored record for file: 19.wav\n",
            "Stored record for file: 20.wav\n",
            "Stored record for file: 21.wav\n",
            "Stored record for file: 22.wav\n",
            "Stored record for file: 23.wav\n",
            "Stored record for file: 24.wav\n",
            "Stored record for file: 25.wav\n",
            "Stored record for file: 26.wav\n",
            "Stored record for file: 27.wav\n",
            "Stored record for file: 28.wav\n",
            "Stored record for file: 29.wav\n",
            "Stored record for file: 30.wav\n",
            "Stored record for file: 31.wav\n",
            "Stored record for file: 32.wav\n",
            "Stored record for file: 33.wav\n",
            "Stored record for file: 34.wav\n",
            "Stored record for file: 35.wav\n",
            "Stored record for file: 36.wav\n",
            "Stored record for file: 37.wav\n",
            "Stored record for file: 38.wav\n",
            "Stored record for file: 39.wav\n"
          ]
        }
      ]
    },
    {
      "cell_type": "code",
      "source": [
        "# Function to retrieve data from Firestore\n",
        "def get_transcriptions():\n",
        "    docs = db.collection('transcriptions').get()\n",
        "    return [doc.to_dict() for doc in docs]\n",
        "\n",
        "# Retrieve data\n",
        "transcription_data = get_transcriptions()\n"
      ],
      "metadata": {
        "id": "zADpCKzMlsuL"
      },
      "execution_count": 128,
      "outputs": []
    },
    {
      "cell_type": "code",
      "source": [
        "sentiment_scores = [record['sentiment'] for record in transcription_data]"
      ],
      "metadata": {
        "id": "Wpd2ql8xvfHj"
      },
      "execution_count": 129,
      "outputs": []
    },
    {
      "cell_type": "code",
      "source": [
        "magnitude_scores = [record['magnitude'] for record in transcription_data]"
      ],
      "metadata": {
        "id": "F_kFtTDfzOD6"
      },
      "execution_count": 145,
      "outputs": []
    },
    {
      "cell_type": "code",
      "source": [
        "# Histogram of sentiment scores\n",
        "plt.hist(sentiment_scores, bins=8, color='blue', edgecolor='black')\n",
        "plt.title('Distribution of Sentiment Scores')\n",
        "plt.xlabel('Sentiment Score')\n",
        "plt.ylabel('Frequency')\n",
        "plt.show()"
      ],
      "metadata": {
        "colab": {
          "base_uri": "https://localhost:8080/",
          "height": 472
        },
        "id": "v78eCCh_nZYL",
        "outputId": "7f3f9d45-d7ba-4fad-f4f9-83ccaa8cabf4"
      },
      "execution_count": 130,
      "outputs": [
        {
          "output_type": "display_data",
          "data": {
            "text/plain": [
              "<Figure size 640x480 with 1 Axes>"
            ],
            "image/png": "[encoded data removed]"
          },
          "metadata": {}
        }
      ]
    },
    {
      "cell_type": "markdown",
      "source": [
        "  **This histogram represents the distribution of sentiment scores, here's an analysis of what the visualization suggests:**\n",
        "  \n",
        "  \n",
        "  1. Centrality: The distribution of sentiment scores has a central tendency around 0. This could indicate that the overall sentiment across all transcriptions is neutral, or it might suggest an equal distribution of positive and negative sentiments.\n",
        "\n",
        "  2. Spread: There appears to be a relatively even spread of sentiment scores across the range from -1 to 1, with a concentration of scores between -0.25 and 0.25. This could mean that most transcriptions convey emotions that are neither strongly positive nor strongly negative.\n",
        "\n",
        "  3. Skewness: The histogram does not show a clear skew to the left or right, suggesting that there isn't a pronounced tendency for the sentiments to be more positive or negative.\n",
        "\n",
        "  4. Outliers: There are no clear indications of outliers from this histogram, as the frequencies gradually decrease as you move away from the center. However, without numerical data, it's hard to identify if there are any extreme values.\n",
        "\n",
        "  5. Bimodal/Multimodal Distribution: The histogram doesn't show a clear bimodal or multimodal distribution, suggesting that there aren't multiple distinct groups with different sentiment behaviors.\n",
        "\n",
        "  6. Volume of Data: The frequency counts are relatively low, which suggests either the data set is small or the sentiment scores are finely distributed across different values without many repetitions.\n",
        "\n",
        "To conclude, most of the transcriptions appear to be of a neutral sentiment with some variation on either side of the sentiment scale. There's no indication of a significant lean towards positive or negative sentiment."
      ],
      "metadata": {
        "id": "h0qUPHh1ifRl"
      }
    },
    {
      "cell_type": "code",
      "source": [
        "# Histogram of magnitude scores\n",
        "plt.figure(figsize=(10, 6))\n",
        "plt.hist(magnitude_scores, bins=8, color='green', edgecolor='black')\n",
        "plt.title('Distribution of Magnitude Scores')\n",
        "plt.xlabel('Magnitude Score')\n",
        "plt.ylabel('Frequency')\n",
        "plt.show()"
      ],
      "metadata": {
        "colab": {
          "base_uri": "https://localhost:8080/",
          "height": 564
        },
        "id": "evLN3bC9zRzc",
        "outputId": "0f9a7c6c-fcc4-4d83-828f-0bf861e68fe0"
      },
      "execution_count": 147,
      "outputs": [
        {
          "output_type": "display_data",
          "data": {
            "text/plain": [
              "<Figure size 1000x600 with 1 Axes>"
            ],
            "image/png": "[encoded data removed]"
          },
          "metadata": {}
        }
      ]
    },
    {
      "cell_type": "markdown",
      "source": [
        "The histogram depicts the distribution of magnitude scores. Here's an analysis based on the visual:\n",
        "\n",
        "  1. Concentration at Low Magnitude: A significant number of records have a magnitude score of 0. This suggests that many transcriptions are likely to express statements with neutral emotional content or have very subtle emotional expressions that the sentiment analysis tool interprets as having no significant emotional weight.\n",
        "\n",
        "  2. Decrement Pattern: The frequency of records decreases as the magnitude increases, with fewer transcriptions exhibiting a higher magnitude score. This indicates that strongly emotional statements (either positive or negative) are less common in your dataset.\n",
        "\n",
        "  3. Possible Outliers: The histogram does not clearly indicate the presence of outliers, as there is a relatively smooth decrease in frequency with increasing magnitude. However, the bars at the higher magnitude end could potentially represent less frequent, more emotionally charged statements.\n",
        "\n",
        "  4. Unimodal Distribution: The distribution appears to be unimodal with a peak at 0, suggesting a single, dominant category of emotional intensity within the transcriptions.\n",
        "\n",
        "  5. Data Sparsity: As the magnitude score increases, there's a noticeable sparsity in the data. This may point to the nature of the transcriptions, where only a few contain strong emotional language."
      ],
      "metadata": {
        "id": "_-nBcPVej24G"
      }
    },
    {
      "cell_type": "code",
      "source": [
        "import statistics\n",
        "\n",
        "# Calculate mean and median\n",
        "mean_score = statistics.mean(sentiment_scores)\n",
        "median_score = statistics.median(sentiment_scores)\n",
        "\n",
        "print(f\"Mean Sentiment Score: {mean_score}\")\n",
        "print(f\"Median Sentiment Score: {median_score}\")\n"
      ],
      "metadata": {
        "colab": {
          "base_uri": "https://localhost:8080/"
        },
        "id": "40gvRN32pubc",
        "outputId": "084add50-6535-4b86-9367-ce6920b11a99"
      },
      "execution_count": 131,
      "outputs": [
        {
          "output_type": "stream",
          "name": "stdout",
          "text": [
            "Mean Sentiment Score: 0.03846153903466005\n",
            "Median Sentiment Score: 0.0\n"
          ]
        }
      ]
    },
    {
      "cell_type": "code",
      "source": [],
      "metadata": {
        "id": "w6cxaA2PyXXX"
      },
      "execution_count": null,
      "outputs": []
    }
  ]
}